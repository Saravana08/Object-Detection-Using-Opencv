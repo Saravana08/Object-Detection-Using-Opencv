{
 "cells": [
  {
   "cell_type": "code",
   "execution_count": 4,
   "metadata": {},
   "outputs": [],
   "source": [
    "# object detection\n",
    "import cv2\n",
    "\n",
    "image = cv2.imread('C:/Users/saravana.ayyappa/Desktop/face.jpg')  # Loading the image that we want to scan\n",
    "\n",
    "\n",
    "face_cascade = cv2.CascadeClassifier('haarcascade_frontalface_default.xml') # download these xml files from http://alereimondo.no-ip.org/OpenCV/34/\n",
    "eyes_cascade = cv2.CascadeClassifier('frontalEyes35x16.xml')  # for eyes\n",
    "hs = cv2.CascadeClassifier('HS.xml')                          # for head and shoulder\n",
    "\n",
    "cv2.imshow('before',image)                                  # showing the image using opencv\n",
    "\n",
    "\n",
    "faces = face_cascade.detectMultiScale(image, 1.1, 4)  # face detection\n",
    "eyes = eyes_cascade.detectMultiScale(image,1.1,4)     # eyes detection\n",
    "#HS = hs.detectMultiScale(image,1.1,3)               # head and shoulder detection\n",
    "\n",
    "\n",
    "# # Draw the rectangle around each face\n",
    "for (x, y, w, h) in faces:\n",
    "    cv2.rectangle(image, (x, y), (x+w, y+h), (255, 0, 0), 2)\n",
    "\n",
    "# # Draw the rectangle around eyes\n",
    "for (x, y, w, h) in eyes:\n",
    "    cv2.rectangle(image, (x, y), (x+w, y+h), (255, 0, 0), 2)\n",
    "\n",
    "# # Draw the rectangle around head and shoulder\n",
    "#for (x, y, w, h) in HS:\n",
    "#    cv2.rectangle(image, (x, y), (x+w, y+h), (255, 0, 0), 2)\n",
    "    \n",
    "\n",
    "# # Display\n",
    "cv2.imshow('after', image)\n",
    "\n",
    "k = cv2.waitKey(0)    # wait till we press escape then the window closes\n",
    "\n",
    "if k==27:   #27 is for escape key\n",
    "    cv2.destroyAllWindows()    # this will close all the windows if escape is pressed"
   ]
  }
 ],
 "metadata": {
  "kernelspec": {
   "display_name": "Python 3",
   "language": "python",
   "name": "python3"
  },
  "language_info": {
   "codemirror_mode": {
    "name": "ipython",
    "version": 3
   },
   "file_extension": ".py",
   "mimetype": "text/x-python",
   "name": "python",
   "nbconvert_exporter": "python",
   "pygments_lexer": "ipython3",
   "version": "3.8.3"
  }
 },
 "nbformat": 4,
 "nbformat_minor": 4
}
